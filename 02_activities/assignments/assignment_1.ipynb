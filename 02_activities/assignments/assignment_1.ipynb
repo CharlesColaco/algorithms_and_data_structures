{
 "cells": [
  {
   "cell_type": "markdown",
   "metadata": {},
   "source": [
    "# Coding Problems\n",
    "\n",
    "## Objective\n",
    "\n",
    "This assignment aims to demonstrate how to study a data structures or algorithms question in depth to prepare for an industry coding interview. Leetcode is a popular coding practice site that many use to practice for technical interviews. Like behavioral interviews, it's important to practice and keep your skills sharp.\n",
    "\n",
    "## Group Size\n",
    "\n",
    "Please complete this individually.\n",
    "\n",
    "## Part 1:\n",
    "\n",
    "_*You will be assigned one of three problems based of your first name. Execute the code below, and that will tell you your assigned problem. Include the output as part of your submission (do not clear the output). The problems are based-off problems from Leetcode.*_\n"
   ]
  },
  {
   "cell_type": "code",
   "execution_count": 7,
   "metadata": {},
   "outputs": [
    {
     "name": "stdout",
     "output_type": "stream",
     "text": [
      "2\n"
     ]
    }
   ],
   "source": [
    "print((hash('Charles') % 3) + 1)"
   ]
  },
  {
   "cell_type": "markdown",
   "metadata": {},
   "source": [
    "<details>\n",
    "  <summary>Question 1</summary>\n",
    "\n",
    "  # Question One: Check Duplicates in Tree\n",
    "\n",
    "  Given the `root` of a binary tree, check whether it is contains a duplicate value. If a duplicate exists, return the duplicate value. If there are multiple duplicates, return the one with the closest distance to the root. If no duplicate exists, return -1.\n",
    "\n",
    "  ## Examples\n",
    "\n",
    "  ### Example 1\n",
    "\n",
    "  ![](./images/q1_ex1.png)\n",
    "\n",
    "  Input: `root = [1, 2, 2, 3, 5, 6, 7]` *What traversal method is this?*\n",
    "\n",
    "  Output: 2\n",
    "\n",
    "  ### Example 2\n",
    "\n",
    "  ![](./images/q1_ex2.png)\n",
    "\n",
    "  Input: `root = [1, 10, 2, 3, 10, 12, 12]`\n",
    "\n",
    "  Output: 10\n",
    "\n",
    "  ### Example 3\n",
    "\n",
    "  ![](./images/q1_ex3.png)\n",
    "\n",
    "  Input: `root = [10, 9, 8, 7]`\n",
    "\n",
    "  Output: -1\n",
    "\n",
    "</details>\n",
    "\n",
    "#### Starter Code for Question 1"
   ]
  },
  {
   "cell_type": "code",
   "execution_count": null,
   "metadata": {},
   "outputs": [],
   "source": [
    "# Definition for a binary tree node.\n",
    "# class TreeNode(object):\n",
    "#     def __init__(self, val = 0, left = None, right = None):\n",
    "#         self.val = val\n",
    "#         self.left = left\n",
    "#         self.right = right\n",
    "def is_duplicate(root: TreeNode) -> int:\n",
    "  # TODO"
   ]
  },
  {
   "cell_type": "markdown",
   "metadata": {},
   "source": [
    "<details>\n",
    "  <summary>Question 2</summary>\n",
    "\n",
    "  # Question Two: Path to Leaves\n",
    "\n",
    "  Given the `root` of a binary tree, return all root to leaf paths in any order.\n",
    "\n",
    "  ## Examples\n",
    "\n",
    "  ### Example 1\n",
    "\n",
    "  ![](./images/q1_ex1.png)\n",
    "\n",
    "  Input: `root = [1, 2, 2, 3, 5, 6, 7]` *What traversal method is this?*\n",
    "\n",
    "  Output: [[1, 2, 3], [1, 2, 5], [1, 2, 6], [1, 2, 7]]\n",
    "\n",
    "  ### Example 2\n",
    "\n",
    "  ![](./images/q1_ex3.png)\n",
    "\n",
    "  Input: `root = [10, 9, 7, 8]`\n",
    "\n",
    "  Output: [[10, 7], [10, 9, 8]]\n",
    "\n",
    "</details>\n",
    "\n",
    "#### Starter Code for Question 2"
   ]
  },
  {
   "cell_type": "code",
   "execution_count": null,
   "metadata": {},
   "outputs": [],
   "source": [
    "# Definition for a binary tree node.\n",
    "# class TreeNode(object):\n",
    "#     def __init__(self, val = 0, left = None, right = None):\n",
    "#         self.val = val\n",
    "#         self.left = left\n",
    "#         self.right = right\n",
    "def bt_path(root: TreeNode) -> List[List[int]]:\n",
    "  # TODO"
   ]
  },
  {
   "cell_type": "markdown",
   "metadata": {},
   "source": [
    "<details>\n",
    "  <summary>Question 3</summary>\n",
    "\n",
    "  # Question Three: Missing Number in Range\n",
    " \n",
    "  You are given a list containing `n` integers in the range `[0, n]`. Return a list of numbers that are missing from the range `[0, n]` of the array. If there is no missing number, return -1. Note, all the integers in the list may not be unique.\n",
    "  \n",
    "  ## Examples\n",
    "\n",
    "  ### Example 1\n",
    "\n",
    "  Input: `lst = [0, 2]`\n",
    "\n",
    "  Output: [1]\n",
    "\n",
    "  ### Example 2\n",
    "\n",
    "  Input: `lst = [5, 0, 1]`\n",
    "\n",
    "  Output: [2, 3, 4]\n",
    "\n",
    "  ### Example 3\n",
    "\n",
    "  Input: `lst = [6, 8, 2, 3, 5, 7, 0, 1, 10]`\n",
    "\n",
    "  Output: [4, 9]\n",
    "\n",
    "</details>\n",
    "\n",
    "#### Starter Code for Question 3\n"
   ]
  },
  {
   "cell_type": "code",
   "execution_count": null,
   "metadata": {},
   "outputs": [],
   "source": [
    "def missing_num(nums: List) -> int:\n",
    "  # TODO"
   ]
  },
  {
   "cell_type": "markdown",
   "metadata": {},
   "source": [
    "\n",
    "## Part 2:\n",
    "\n",
    "-   Paraphrase the problem in your own words\n"
   ]
  },
  {
   "cell_type": "markdown",
   "metadata": {},
   "source": [
    "<div style=\"background-color: #f0f8ff; padding: 10px; border-radius: 5px;\">\n",
    "\n",
    "## Problem Description\n",
    "\n",
    "We are given the root of a binary tree, and we need to return a list of all paths from the root to the leaf nodes. Each path is represented as a list of integers, where the integers represent the values of the nodes from the root to the leaf.\n",
    "\n",
    "### Requirements\n",
    "- Each path should be from the root node to one of these leaf nodes.\n",
    "- The order of the paths in the result does not matter.\n",
    "- Each path should contain the sequence of node values from the root to a leaf.\n",
    "</div>"
   ]
  },
  {
   "cell_type": "markdown",
   "metadata": {},
   "source": [
    "- In this .ipynb file, there are examples that illustrate how the code should work (the examples provided above). Create 2 new examples for the question you have been assigned, that demonstrate you understand the problem. For question 1 and 2, you don't need to create the tree demonstration, just the input and output.\n"
   ]
  },
  {
   "cell_type": "markdown",
   "metadata": {},
   "source": [
    "<div style=\"background-color: #f0f8ff; padding: 10px; border-radius: 5px;\">\n",
    "\n",
    "## Examples\n",
    "Here are two examples based on the problem:\n",
    "\n",
    "### Example 1:\n",
    "\n",
    "         5\n",
    "       /   \\\n",
    "      3     8\n",
    "     / \\    / \\\n",
    "    1  4   7   9\n",
    "\n",
    "Input: root = [5, 3, 8, 1, 4, 7, 9]\n",
    "Output: [[5, 3, 1], [5, 3, 4], [5, 8, 7], [5, 8, 9]]\n",
    "\n",
    "\n",
    "\n",
    "### Example 2:\n",
    "\n",
    "        10\n",
    "       /  \\\n",
    "      2    15\n",
    "     / \\     \\\n",
    "    1   5     20\n",
    "\n",
    "Input: root = [10, 2, 15, 1, 5, None, 20]\n",
    "Output: [[10, 2, 1], [10, 2, 5], [10, 15, 20]]\n",
    "</div>"
   ]
  },
  {
   "cell_type": "markdown",
   "metadata": {},
   "source": [
    "\n",
    "-   Code the solution to your assigned problem in Python (code chunk). Try to find the best time and space complexity solution!\n"
   ]
  },
  {
   "cell_type": "code",
   "execution_count": 11,
   "metadata": {},
   "outputs": [],
   "source": [
    "from typing import List, Optional\n",
    "from collections import deque\n",
    "\n",
    "# Definition for a binary tree node.\n",
    "class TreeNode:\n",
    "    def __init__(self, val=0, left=None, right=None):\n",
    "        self.val = val\n",
    "        self.left = left\n",
    "        self.right = right\n",
    "\n",
    "def bt_path(root: Optional[TreeNode]) -> List[List[int]]:\n",
    "    if not root:\n",
    "        return []\n",
    "    \n",
    "    result = []\n",
    "    queue = deque([(root, [root.val])])  # Queue stores tuples of (node, current_path)\n",
    "\n",
    "    while queue:\n",
    "        node, path = queue.popleft()\n",
    "\n",
    "        # If leaf node, add the current path to the result\n",
    "        if not node.left and not node.right:\n",
    "            result.append(path)\n",
    "        \n",
    "        # Append the children to the queue with the updated path\n",
    "        if node.left:\n",
    "            queue.append((node.left, path + [node.left.val]))\n",
    "        if node.right:\n",
    "            queue.append((node.right, path + [node.right.val]))\n",
    "\n",
    "    return result"
   ]
  },
  {
   "cell_type": "markdown",
   "metadata": {},
   "source": [
    "### Code Demo"
   ]
  },
  {
   "cell_type": "code",
   "execution_count": 12,
   "metadata": {},
   "outputs": [
    {
     "name": "stdout",
     "output_type": "stream",
     "text": [
      "[[10, 2, 1], [10, 2, 5], [10, 15, 20]]\n",
      "[[10, 9], [10, 7, 8]]\n"
     ]
    }
   ],
   "source": [
    "root1 = TreeNode(10)\n",
    "root1.left = TreeNode(2)\n",
    "root1.right = TreeNode(15)\n",
    "root1.left.left = TreeNode(1)\n",
    "root1.left.right = TreeNode(5)\n",
    "root1.right.right = TreeNode(20)\n",
    "\n",
    "root2 = TreeNode(10)\n",
    "root2.left = TreeNode(9)\n",
    "root2.right = TreeNode(7)\n",
    "root2.right.left = TreeNode(8)\n",
    "\n",
    "print(bt_path(root1)) \n",
    "print(bt_path(root2))"
   ]
  },
  {
   "cell_type": "markdown",
   "metadata": {},
   "source": [
    "\n",
    "-   Explain why your solution works\n"
   ]
  },
  {
   "cell_type": "markdown",
   "metadata": {},
   "source": [
    "<div style=\"background-color: #f0f8ff; padding: 10px; border-radius: 5px;\">\n",
    "\n",
    "## Explanation\n",
    "\n",
    "This solution works because it performs a traversal of the tree using **BFS (Breadth-First Search)**. BFS is particularly well-suited to problems where we need to explore all paths level by level, ensuring we capture all root-to-leaf paths.\n",
    "\n",
    "### BFS Exploration\n",
    "\n",
    "- By using a queue, we systematically explore all nodes **level by level**.\n",
    "- At each node, we append its value to the current path.\n",
    "- If the node is a **leaf node** (a node with no children), we record that path.\n",
    "\n",
    "### Queue Mechanism\n",
    "\n",
    "- The queue ensures that each node is processed in the correct order.\n",
    "- Each path is extended by one node at a time as we traverse the tree.\n",
    "\n",
    "The BFS approach efficiently collects all root-to-leaf paths, ensuring that no paths are missed and that we capture every leaf node’s path.\n",
    "</div>"
   ]
  },
  {
   "cell_type": "markdown",
   "metadata": {},
   "source": [
    "\n",
    "-   Explain the problem’s time and space complexity\n"
   ]
  },
  {
   "cell_type": "markdown",
   "metadata": {},
   "source": [
    "<div style=\"background-color: #f0f8ff; padding: 10px; border-radius: 5px;\">\n",
    "\n",
    "## Time and Space Complexity\n",
    "\n",
    "### Time Complexity\n",
    "\n",
    "- **O(N)**, where **N** is the number of nodes in the tree. This is because we visit each node exactly once during the BFS process.\n",
    "- For each node, we perform a constant amount of work (checking if it is a leaf and adding its children to the queue), so the total work done is proportional to the number of nodes.\n",
    "\n",
    "### Space Complexity\n",
    "\n",
    "- **O(N)**, where **N** is the number of nodes in the tree. In the worst case, we might need to store all nodes in the queue if the tree is very unbalanced.\n",
    "- Additionally, the space required to store the result list (paths) can be up to **O(N)**, in the worst case where all nodes are leaf nodes and each path is stored.\n",
    "\n",
    "Thus, the space complexity is dominated by the number of nodes stored in the queue and the result list.\n",
    "</div>\n"
   ]
  },
  {
   "cell_type": "markdown",
   "metadata": {},
   "source": [
    "\n",
    "-   Explain the thinking to an alternative solution (no coding required, but a classmate reading this should be able to code it up based off your text)\n"
   ]
  },
  {
   "cell_type": "markdown",
   "metadata": {},
   "source": [
    "<div style=\"background-color: #f0f8ff; padding: 10px; border-radius: 5px;\">\n",
    "\n",
    "## Alternative Approach: DFS with Backtracking\n",
    "\n",
    "An alternative approach to solving this problem would be using **Depth-First Search (DFS)** with **backtracking**.\n",
    "\n",
    "### DFS with Backtracking Approach:\n",
    "\n",
    "1. **Recursive DFS**: Start at the root and traverse down the tree recursively, adding each node's value to the current path.\n",
    "2. **Base Case**: When we reach a leaf node (a node with no children), we add the current path to the result list.\n",
    "3. **Backtrack**: Once we reach a leaf or a dead-end, we backtrack by removing the last node from the current path and explore the other children.\n",
    "4. **Return**: Once all paths have been explored, return the list of all root-to-leaf paths.\n",
    "\n",
    "### Steps:\n",
    "\n",
    "1. Begin from the root node and recursively explore its left and right children.\n",
    "2. For each node, maintain a path list that contains the node values from the root to that point.\n",
    "3. If a **leaf** is encountered, add the path to the result.\n",
    "4. If not a leaf, continue the DFS exploration with the left and right children.\n",
    "5. Once a path is fully explored, **backtrack** by removing the last node from the path.\n",
    "</div>"
   ]
  },
  {
   "cell_type": "markdown",
   "metadata": {},
   "source": [
    "## Evaluation Criteria\n",
    "\n",
    "-   Problem is accurately stated\n",
    "\n",
    "-   Two examples are correct and easily understandable\n",
    "\n",
    "-   Correctness, time, and space complexity of the coding solution\n",
    "\n",
    "-   Clarity in explaining why the solution works, its time and space complexity\n",
    "\n",
    "-   Clarity in the proposal to the alternative solution"
   ]
  },
  {
   "cell_type": "markdown",
   "metadata": {},
   "source": [
    "## Submission Information\n",
    "\n",
    "🚨 **Please review our [Assignment Submission Guide](https://github.com/UofT-DSI/onboarding/blob/main/onboarding_documents/submissions.md)** 🚨 for detailed instructions on how to format, branch, and submit your work. Following these guidelines is crucial for your submissions to be evaluated correctly.\n",
    "\n",
    "### Submission Parameters:\n",
    "* Submission Due Date: `HH:MM AM/PM - DD/MM/YYYY`\n",
    "* The branch name for your repo should be: `assignment-1`\n",
    "* What to submit for this assignment:\n",
    "    * This Jupyter Notebook (assignment_1.ipynb) should be populated and should be the only change in your pull request.\n",
    "* What the pull request link should look like for this assignment: `https://github.com/<your_github_username>/algorithms_and_data_structures/pull/<pr_id>`\n",
    "    * Open a private window in your browser. Copy and paste the link to your pull request into the address bar. Make sure you can see your pull request properly. This helps the technical facilitator and learning support staff review your submission easily.\n",
    "\n",
    "Checklist:\n",
    "- [ ] Create a branch called `assignment-1`.\n",
    "- [ ] Ensure that the repository is public.\n",
    "- [ ] Review [the PR description guidelines](https://github.com/UofT-DSI/onboarding/blob/main/onboarding_documents/submissions.md#guidelines-for-pull-request-descriptions) and adhere to them.\n",
    "- [ ] Verify that the link is accessible in a private browser window.\n",
    "\n",
    "If you encounter any difficulties or have questions, please don't hesitate to reach out to our team via our Slack at `#cohort-3-help`. Our Technical Facilitators and Learning Support staff are here to help you navigate any challenges."
   ]
  }
 ],
 "metadata": {
  "kernelspec": {
   "display_name": "dsi_participant",
   "language": "python",
   "name": "python3"
  },
  "language_info": {
   "codemirror_mode": {
    "name": "ipython",
    "version": 3
   },
   "file_extension": ".py",
   "mimetype": "text/x-python",
   "name": "python",
   "nbconvert_exporter": "python",
   "pygments_lexer": "ipython3",
   "version": "3.9.15"
  }
 },
 "nbformat": 4,
 "nbformat_minor": 2
}
